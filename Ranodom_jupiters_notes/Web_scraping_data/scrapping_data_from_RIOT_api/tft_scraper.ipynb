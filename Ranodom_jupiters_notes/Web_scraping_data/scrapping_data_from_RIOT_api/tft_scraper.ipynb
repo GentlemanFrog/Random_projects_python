{
 "cells": [
  {
   "cell_type": "code",
   "execution_count": null,
   "metadata": {},
   "outputs": [],
   "source": [
    "from riotwatcher import TftWatcher\n",
    "import pandas as pd\n",
    "import numpy as np\n",
    "\n",
    "# setting up api key from folder:\n",
    "api_key = open('C:/Users/Alek/Desktop/riot_api_key.txt')    "
   ]
  }
 ],
 "metadata": {
  "kernelspec": {
   "display_name": "Python 3",
   "language": "python",
   "name": "python3"
  },
  "language_info": {
   "name": "python",
   "version": "3.11.0"
  },
  "orig_nbformat": 4,
  "vscode": {
   "interpreter": {
    "hash": "e5eabbe6ac4ad00f99a310a90db9129569c83dbf47b261a4fec3ce2229d39b85"
   }
  }
 },
 "nbformat": 4,
 "nbformat_minor": 2
}

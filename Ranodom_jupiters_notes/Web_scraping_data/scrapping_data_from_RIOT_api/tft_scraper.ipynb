{
 "cells": [
  {
   "cell_type": "code",
   "execution_count": 1,
   "metadata": {},
   "outputs": [],
   "source": [
    "from riotwatcher import TftWatcher\n",
    "import pandas as pd\n",
    "import numpy as np\n",
    "import requests\n",
    "\n",
    "# setting up api key from folder:\n",
    "# Rember to chcekc if token dont expire:\n",
    "txt_from_file = open('C:/Users/Alek/Desktop/riot_api_key.txt', \"r\")\n",
    "line = txt_from_file.readline()\n",
    "txt_from_file.close\n",
    "api_key = str(line)"
   ]
  },
  {
   "cell_type": "code",
   "execution_count": 2,
   "metadata": {},
   "outputs": [],
   "source": [
    "# Setting url from riot  developers site:\n",
    "api_url = 'https://eun1.api.riotgames.com/tft/summoner/v1/summoners/by-name/GentlemanToad'"
   ]
  },
  {
   "cell_type": "code",
   "execution_count": 3,
   "metadata": {},
   "outputs": [],
   "source": [
    "# Attaching information about api key to url to get authorized input:\n",
    "api_url_with_key = str(api_url) + '?api_key=' + str(api_key)\n"
   ]
  },
  {
   "cell_type": "code",
   "execution_count": 4,
   "metadata": {},
   "outputs": [
    {
     "data": {
      "text/plain": [
       "<Response [200]>"
      ]
     },
     "execution_count": 4,
     "metadata": {},
     "output_type": "execute_result"
    }
   ],
   "source": [
    "# Checking if we are able to make a proper request:\n",
    "resp = requests.get(api_url_with_key)\n",
    "resp\n",
    "# If respons is equal to 200 we are good"
   ]
  },
  {
   "cell_type": "code",
   "execution_count": 9,
   "metadata": {},
   "outputs": [
    {
     "data": {
      "text/plain": [
       "{'id': 'QFdcqoZcY5GK5BB-ed8yW7b5X9sK0dEDDKO68Hf_WQhe_QorkCSZCua3qg',\n",
       " 'accountId': 'W43Nxoc4IU94bDc6C_vX1tsP3NTsq6H33_6Pvdf9t3VVin3iFzM5OQa0',\n",
       " 'puuid': 'xGThMki5JjWqWC-J3VQJOO_Ivhxk6ZZGz6IxpWLDdTFaHllc5GshSgdRp_knbSU9maZo0kdCDMcNAA',\n",
       " 'name': 'GentlemanToad',\n",
       " 'profileIconId': 4903,\n",
       " 'revisionDate': 1676407997000,\n",
       " 'summonerLevel': 109}"
      ]
     },
     "execution_count": 9,
     "metadata": {},
     "output_type": "execute_result"
    }
   ],
   "source": [
    "# Getting infomration in jason about player (in this example me):\n",
    "player_info = resp.json()\n",
    "#player_info"
   ]
  },
  {
   "cell_type": "code",
   "execution_count": 10,
   "metadata": {},
   "outputs": [],
   "source": [
    "# Getting match ids by request from puuids:\n",
    "match_api_url = 'https://europe.api.riotgames.com/tft/match/v1/matches/by-puuid/%27xGThMki5JjWqWC-J3VQJOO_Ivhxk6ZZGz6IxpWLDdTFaHllc5GshSgdRp_knbSU9maZo0kdCDMcNAA%27/ids?start=0&count=200'"
   ]
  },
  {
   "cell_type": "code",
   "execution_count": 12,
   "metadata": {},
   "outputs": [],
   "source": [
    "# Adding key to match api url:\n",
    "match_api_url = match_api_url + \"&api_key=\" + api_key\n",
    "#match_api_url "
   ]
  },
  {
   "cell_type": "code",
   "execution_count": 14,
   "metadata": {},
   "outputs": [
    {
     "data": {
      "text/plain": [
       "['EUN1_3316087502',\n",
       " 'EUN1_3316059980',\n",
       " 'EUN1_3316031752',\n",
       " 'EUN1_3315571309',\n",
       " 'EUN1_3315546389',\n",
       " 'EUN1_3315507684',\n",
       " 'EUN1_3315472601',\n",
       " 'EUN1_3315430509',\n",
       " 'EUN1_3315349345',\n",
       " 'EUN1_3315222849',\n",
       " 'EUN1_3315211502',\n",
       " 'EUN1_3315131735',\n",
       " 'EUN1_3314602533',\n",
       " 'EUN1_3314405527',\n",
       " 'EUN1_3314401456',\n",
       " 'EUN1_3314257497',\n",
       " 'EUN1_3314220089',\n",
       " 'EUN1_3314189616',\n",
       " 'EUN1_3314161097',\n",
       " 'EUN1_3314122487',\n",
       " 'EUN1_3314095274',\n",
       " 'EUN1_3312678233',\n",
       " 'EUN1_3312639386',\n",
       " 'EUN1_3312594999',\n",
       " 'EUN1_3312560946',\n",
       " 'EUN1_3312530096',\n",
       " 'EUN1_3312499999',\n",
       " 'EUN1_3312228499',\n",
       " 'EUN1_3311496025',\n",
       " 'EUN1_3311349969',\n",
       " 'EUN1_3311320058',\n",
       " 'EUN1_3311294009',\n",
       " 'EUN1_3311154676',\n",
       " 'EUN1_3310676529',\n",
       " 'EUN1_3310536602',\n",
       " 'EUN1_3310514082',\n",
       " 'EUN1_3310465638',\n",
       " 'EUN1_3310436834',\n",
       " 'EUN1_3310400235',\n",
       " 'EUN1_3310372686',\n",
       " 'EUN1_3310352393',\n",
       " 'EUN1_3310221511',\n",
       " 'EUN1_3310212528',\n",
       " 'EUN1_3310028342',\n",
       " 'EUN1_3309995995',\n",
       " 'EUN1_3309954794',\n",
       " 'EUN1_3309919728',\n",
       " 'EUN1_3309874838',\n",
       " 'EUN1_3309575335',\n",
       " 'EUN1_3309542813',\n",
       " 'EUN1_3309454538',\n",
       " 'EUN1_3309436408',\n",
       " 'EUN1_3309419123',\n",
       " 'EUN1_3309069783',\n",
       " 'EUN1_3309036443',\n",
       " 'EUN1_3308653255',\n",
       " 'EUN1_3308634741',\n",
       " 'EUN1_3308625985',\n",
       " 'EUN1_3308365185',\n",
       " 'EUN1_3308332773',\n",
       " 'EUN1_3308098568',\n",
       " 'EUN1_3308045957',\n",
       " 'EUN1_3308027804',\n",
       " 'EUN1_3307984860',\n",
       " 'EUN1_3307977256',\n",
       " 'EUN1_3307790364',\n",
       " 'EUN1_3306366290',\n",
       " 'EUN1_3306166200',\n",
       " 'EUN1_3306135595',\n",
       " 'EUN1_3306116710',\n",
       " 'EUN1_3306094250',\n",
       " 'EUN1_3305772111',\n",
       " 'EUN1_3305737246',\n",
       " 'EUN1_3305703848',\n",
       " 'EUN1_3305680224',\n",
       " 'EUN1_3305105800',\n",
       " 'EUN1_3305077521',\n",
       " 'EUN1_3305025699',\n",
       " 'EUN1_3304272338',\n",
       " 'EUN1_3304239883',\n",
       " 'EUN1_3304208781',\n",
       " 'EUN1_3304151923',\n",
       " 'EUN1_3304099105',\n",
       " 'EUN1_3303991405',\n",
       " 'EUN1_3303845007',\n",
       " 'EUN1_3303820595',\n",
       " 'EUN1_3303483569',\n",
       " 'EUN1_3303455550',\n",
       " 'EUN1_3298358578',\n",
       " 'EUN1_3298305510',\n",
       " 'EUN1_3297986879',\n",
       " 'EUN1_3297950680',\n",
       " 'EUN1_3297117193',\n",
       " 'EUN1_3297079761',\n",
       " 'EUN1_3297058097',\n",
       " 'EUN1_3297014049',\n",
       " 'EUN1_3296903393',\n",
       " 'EUN1_3296854362',\n",
       " 'EUN1_3296701936',\n",
       " 'EUN1_3296363777',\n",
       " 'EUN1_3296333296',\n",
       " 'EUN1_3296188133',\n",
       " 'EUN1_3296146518',\n",
       " 'EUN1_3295850918',\n",
       " 'EUN1_3295380107',\n",
       " 'EUN1_3295345586',\n",
       " 'EUN1_3294448160',\n",
       " 'EUN1_3294419596',\n",
       " 'EUN1_3293979055',\n",
       " 'EUN1_3293897638',\n",
       " 'EUN1_3293862500',\n",
       " 'EUN1_3293497244',\n",
       " 'EUN1_3293327940',\n",
       " 'EUN1_3293298505',\n",
       " 'EUN1_3293035968',\n",
       " 'EUN1_3292988504',\n",
       " 'EUN1_3292951302',\n",
       " 'EUN1_3292325893',\n",
       " 'EUN1_3292310771',\n",
       " 'EUN1_3290688300',\n",
       " 'EUN1_3290659354',\n",
       " 'EUN1_3290369027',\n",
       " 'EUN1_3290354537',\n",
       " 'EUN1_3290348867',\n",
       " 'EUN1_3290158169',\n",
       " 'EUN1_3290127830',\n",
       " 'EUN1_3290099572',\n",
       " 'EUN1_3290068796',\n",
       " 'EUN1_3290032795',\n",
       " 'EUN1_3290008884',\n",
       " 'EUN1_3289922461',\n",
       " 'EUN1_3289802024',\n",
       " 'EUN1_3289786561',\n",
       " 'EUN1_3289757374',\n",
       " 'EUN1_3289624358',\n",
       " 'EUN1_3289090866',\n",
       " 'EUN1_3288908523',\n",
       " 'EUN1_3288879074',\n",
       " 'EUN1_3288850364',\n",
       " 'EUN1_3288811146',\n",
       " 'EUN1_3288754838',\n",
       " 'EUN1_3288725529',\n",
       " 'EUN1_3288578642',\n",
       " 'EUN1_3288553609',\n",
       " 'EUN1_3288524704',\n",
       " 'EUN1_3288420670',\n",
       " 'EUN1_3288385133',\n",
       " 'EUN1_3288221581',\n",
       " 'EUN1_3288193460',\n",
       " 'EUN1_3288167599',\n",
       " 'EUN1_3287807557',\n",
       " 'EUN1_3287800385',\n",
       " 'EUN1_3287788989',\n",
       " 'EUN1_3287624588',\n",
       " 'EUN1_3287605748',\n",
       " 'EUN1_3287579710',\n",
       " 'EUN1_3287561452',\n",
       " 'EUN1_3287430412',\n",
       " 'EUN1_3287398477',\n",
       " 'EUN1_3287362414',\n",
       " 'EUN1_3287327495',\n",
       " 'EUN1_3286898044',\n",
       " 'EUN1_3286518651',\n",
       " 'EUN1_3286371668',\n",
       " 'EUN1_3286343854',\n",
       " 'EUN1_3286235762',\n",
       " 'EUN1_3286204783',\n",
       " 'EUN1_3286175484',\n",
       " 'EUN1_3286143037',\n",
       " 'EUN1_3286124203',\n",
       " 'EUN1_3285466503',\n",
       " 'EUN1_3285436930',\n",
       " 'EUN1_3285384737',\n",
       " 'EUN1_3285370270',\n",
       " 'EUN1_3285350919',\n",
       " 'EUN1_3285335704',\n",
       " 'EUN1_3285324835',\n",
       " 'EUN1_3285255305',\n",
       " 'EUN1_3285207142',\n",
       " 'EUN1_3285077979',\n",
       " 'EUN1_3285058738',\n",
       " 'EUN1_3284497263',\n",
       " 'EUN1_3284471397',\n",
       " 'EUN1_3279911373',\n",
       " 'EUN1_3279881056',\n",
       " 'EUN1_3277469052',\n",
       " 'EUN1_3277372319',\n",
       " 'EUN1_3276919333',\n",
       " 'EUN1_3276881445',\n",
       " 'EUN1_3276855560',\n",
       " 'EUN1_3272588839',\n",
       " 'EUN1_3272546689',\n",
       " 'EUN1_3272506863',\n",
       " 'EUN1_3271744250',\n",
       " 'EUN1_3271711897',\n",
       " 'EUN1_3271674649',\n",
       " 'EUN1_3271633794',\n",
       " 'EUN1_3271602367',\n",
       " 'EUN1_3253697208',\n",
       " 'EUN1_3250704401']"
      ]
     },
     "execution_count": 14,
     "metadata": {},
     "output_type": "execute_result"
    }
   ],
   "source": [
    "# Getting ids of last 200 matches:\n",
    "matches_response = requests.get(match_api_url)\n",
    "matches_ids = matches_response.json()\n",
    "matches_ids"
   ]
  },
  {
   "cell_type": "code",
   "execution_count": null,
   "metadata": {},
   "outputs": [],
   "source": [
    "# Looking inside the match IDs:\n"
   ]
  }
 ],
 "metadata": {
  "kernelspec": {
   "display_name": "Python 3",
   "language": "python",
   "name": "python3"
  },
  "language_info": {
   "codemirror_mode": {
    "name": "ipython",
    "version": 3
   },
   "file_extension": ".py",
   "mimetype": "text/x-python",
   "name": "python",
   "nbconvert_exporter": "python",
   "pygments_lexer": "ipython3",
   "version": "3.11.0"
  },
  "orig_nbformat": 4,
  "vscode": {
   "interpreter": {
    "hash": "e5eabbe6ac4ad00f99a310a90db9129569c83dbf47b261a4fec3ce2229d39b85"
   }
  }
 },
 "nbformat": 4,
 "nbformat_minor": 2
}

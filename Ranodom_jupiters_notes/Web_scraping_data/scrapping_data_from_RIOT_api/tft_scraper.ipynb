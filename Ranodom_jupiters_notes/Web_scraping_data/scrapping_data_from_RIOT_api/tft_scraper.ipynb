{
 "cells": [
  {
   "cell_type": "code",
   "execution_count": 10,
   "metadata": {},
   "outputs": [],
   "source": [
    "from riotwatcher import TftWatcher\n",
    "import pandas as pd\n",
    "import numpy as np\n",
    "import requests\n",
    "\n",
    "# setting up api key from folder:\n",
    "txt_from_file = open('C:/Users/Alek/Desktop/riot_api_key.txt', \"r\")\n",
    "line = txt_from_file.readline()\n",
    "txt_from_file.close\n",
    "api_key = str(line)"
   ]
  },
  {
   "cell_type": "code",
   "execution_count": 11,
   "metadata": {},
   "outputs": [],
   "source": [
    "# Setting url from riot  developers site:\n",
    "api_url = 'https://eun1.api.riotgames.com/tft/summoner/v1/summoners/by-name/GentlemanToad'"
   ]
  },
  {
   "cell_type": "code",
   "execution_count": 13,
   "metadata": {},
   "outputs": [],
   "source": [
    "# Attaching information about api key to url to get authorized input:\n",
    "api_url_with_key = str(api_url) + '?api_key=' + str(api_key)\n"
   ]
  },
  {
   "cell_type": "code",
   "execution_count": 16,
   "metadata": {},
   "outputs": [
    {
     "data": {
      "text/plain": [
       "<Response [200]>"
      ]
     },
     "execution_count": 16,
     "metadata": {},
     "output_type": "execute_result"
    }
   ],
   "source": [
    "# Checking if we are able to make a proper request:\n",
    "resp = requests.get(api_url_with_key)\n",
    "resp\n",
    "# If respons is equal to 200 we are good"
   ]
  },
  {
   "cell_type": "code",
   "execution_count": 19,
   "metadata": {},
   "outputs": [
    {
     "data": {
      "text/plain": [
       "{'id': 'QFdcqoZcY5GK5BB-ed8yW7b5X9sK0dEDDKO68Hf_WQhe_QorkCSZCua3qg',\n",
       " 'accountId': 'W43Nxoc4IU94bDc6C_vX1tsP3NTsq6H33_6Pvdf9t3VVin3iFzM5OQa0',\n",
       " 'puuid': 'xGThMki5JjWqWC-J3VQJOO_Ivhxk6ZZGz6IxpWLDdTFaHllc5GshSgdRp_knbSU9maZo0kdCDMcNAA',\n",
       " 'name': 'GentlemanToad',\n",
       " 'profileIconId': 4903,\n",
       " 'revisionDate': 1676296022000,\n",
       " 'summonerLevel': 109}"
      ]
     },
     "execution_count": 19,
     "metadata": {},
     "output_type": "execute_result"
    }
   ],
   "source": [
    "# Getting infomration in jason about player (in this example me):\n",
    "player_info = resp.json()\n",
    "#player_info"
   ]
  },
  {
   "cell_type": "code",
   "execution_count": 20,
   "metadata": {},
   "outputs": [],
   "source": [
    "# Getting match ids by request from puuids:\n",
    "match_api_url = 'https://europe.api.riotgames.com/tft/match/v1/matches/by-puuid/%27xGThMki5JjWqWC-J3VQJOO_Ivhxk6ZZGz6IxpWLDdTFaHllc5GshSgdRp_knbSU9maZo0kdCDMcNAA%27/ids?start=0&count=20'"
   ]
  },
  {
   "cell_type": "code",
   "execution_count": 23,
   "metadata": {},
   "outputs": [],
   "source": [
    "# Adding key to match api url:\n",
    "match_api_url = match_api_url + \"&api_key=\" + api_key\n",
    "#match_api_url "
   ]
  },
  {
   "cell_type": "code",
   "execution_count": 25,
   "metadata": {},
   "outputs": [],
   "source": [
    "# Getting ids of last 20 matches:\n",
    "matches_response = requests.get(match_api_url)\n",
    "matches_ids = matches_response.json()"
   ]
  }
 ],
 "metadata": {
  "kernelspec": {
   "display_name": "Python 3",
   "language": "python",
   "name": "python3"
  },
  "language_info": {
   "codemirror_mode": {
    "name": "ipython",
    "version": 3
   },
   "file_extension": ".py",
   "mimetype": "text/x-python",
   "name": "python",
   "nbconvert_exporter": "python",
   "pygments_lexer": "ipython3",
   "version": "3.11.0"
  },
  "orig_nbformat": 4,
  "vscode": {
   "interpreter": {
    "hash": "e5eabbe6ac4ad00f99a310a90db9129569c83dbf47b261a4fec3ce2229d39b85"
   }
  }
 },
 "nbformat": 4,
 "nbformat_minor": 2
}

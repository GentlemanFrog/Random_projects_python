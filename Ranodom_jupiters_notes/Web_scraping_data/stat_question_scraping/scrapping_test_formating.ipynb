{
 "cells": [
  {
   "cell_type": "code",
   "execution_count": 50,
   "metadata": {},
   "outputs": [],
   "source": [
    "import pandas as pd\n",
    "import numpy as np\n",
    "import random"
   ]
  },
  {
   "cell_type": "code",
   "execution_count": 3,
   "metadata": {},
   "outputs": [
    {
     "data": {
      "text/html": [
       "<div>\n",
       "<style scoped>\n",
       "    .dataframe tbody tr th:only-of-type {\n",
       "        vertical-align: middle;\n",
       "    }\n",
       "\n",
       "    .dataframe tbody tr th {\n",
       "        vertical-align: top;\n",
       "    }\n",
       "\n",
       "    .dataframe thead th {\n",
       "        text-align: right;\n",
       "    }\n",
       "</style>\n",
       "<table border=\"1\" class=\"dataframe\">\n",
       "  <thead>\n",
       "    <tr style=\"text-align: right;\">\n",
       "      <th></th>\n",
       "      <th>web-scraper-order</th>\n",
       "      <th>web-scraper-start-url</th>\n",
       "      <th>questions_and_answers</th>\n",
       "    </tr>\n",
       "  </thead>\n",
       "  <tbody>\n",
       "    <tr>\n",
       "      <th>0</th>\n",
       "      <td>1675270905-1</td>\n",
       "      <td>https://intellipaat.com/blog/interview-questio...</td>\n",
       "      <td>1. How is the statistical significance of an i...</td>\n",
       "    </tr>\n",
       "    <tr>\n",
       "      <th>1</th>\n",
       "      <td>1675270905-2</td>\n",
       "      <td>https://intellipaat.com/blog/interview-questio...</td>\n",
       "      <td>Hypothesis testing is used to find out the sta...</td>\n",
       "    </tr>\n",
       "    <tr>\n",
       "      <th>2</th>\n",
       "      <td>1675270905-3</td>\n",
       "      <td>https://intellipaat.com/blog/interview-questio...</td>\n",
       "      <td>After calculating the p-value, the null hypoth...</td>\n",
       "    </tr>\n",
       "    <tr>\n",
       "      <th>3</th>\n",
       "      <td>1675270905-4</td>\n",
       "      <td>https://intellipaat.com/blog/interview-questio...</td>\n",
       "      <td>NaN</td>\n",
       "    </tr>\n",
       "    <tr>\n",
       "      <th>4</th>\n",
       "      <td>1675270905-5</td>\n",
       "      <td>https://intellipaat.com/blog/interview-questio...</td>\n",
       "      <td>2. Where are long-tailed distributions used?</td>\n",
       "    </tr>\n",
       "  </tbody>\n",
       "</table>\n",
       "</div>"
      ],
      "text/plain": [
       "  web-scraper-order                              web-scraper-start-url  \\\n",
       "0      1675270905-1  https://intellipaat.com/blog/interview-questio...   \n",
       "1      1675270905-2  https://intellipaat.com/blog/interview-questio...   \n",
       "2      1675270905-3  https://intellipaat.com/blog/interview-questio...   \n",
       "3      1675270905-4  https://intellipaat.com/blog/interview-questio...   \n",
       "4      1675270905-5  https://intellipaat.com/blog/interview-questio...   \n",
       "\n",
       "                               questions_and_answers  \n",
       "0  1. How is the statistical significance of an i...  \n",
       "1  Hypothesis testing is used to find out the sta...  \n",
       "2  After calculating the p-value, the null hypoth...  \n",
       "3                                                NaN  \n",
       "4       2. Where are long-tailed distributions used?  "
      ]
     },
     "execution_count": 3,
     "metadata": {},
     "output_type": "execute_result"
    }
   ],
   "source": [
    "data_from_scrapping = pd.read_csv('stat_questions.csv')\n",
    "data_from_scrapping.head()"
   ]
  },
  {
   "cell_type": "code",
   "execution_count": 4,
   "metadata": {},
   "outputs": [
    {
     "data": {
      "text/html": [
       "<div>\n",
       "<style scoped>\n",
       "    .dataframe tbody tr th:only-of-type {\n",
       "        vertical-align: middle;\n",
       "    }\n",
       "\n",
       "    .dataframe tbody tr th {\n",
       "        vertical-align: top;\n",
       "    }\n",
       "\n",
       "    .dataframe thead th {\n",
       "        text-align: right;\n",
       "    }\n",
       "</style>\n",
       "<table border=\"1\" class=\"dataframe\">\n",
       "  <thead>\n",
       "    <tr style=\"text-align: right;\">\n",
       "      <th></th>\n",
       "      <th>questions_and_answers</th>\n",
       "    </tr>\n",
       "  </thead>\n",
       "  <tbody>\n",
       "    <tr>\n",
       "      <th>0</th>\n",
       "      <td>1. How is the statistical significance of an i...</td>\n",
       "    </tr>\n",
       "    <tr>\n",
       "      <th>1</th>\n",
       "      <td>Hypothesis testing is used to find out the sta...</td>\n",
       "    </tr>\n",
       "    <tr>\n",
       "      <th>2</th>\n",
       "      <td>After calculating the p-value, the null hypoth...</td>\n",
       "    </tr>\n",
       "    <tr>\n",
       "      <th>3</th>\n",
       "      <td>NaN</td>\n",
       "    </tr>\n",
       "    <tr>\n",
       "      <th>4</th>\n",
       "      <td>2. Where are long-tailed distributions used?</td>\n",
       "    </tr>\n",
       "  </tbody>\n",
       "</table>\n",
       "</div>"
      ],
      "text/plain": [
       "                               questions_and_answers\n",
       "0  1. How is the statistical significance of an i...\n",
       "1  Hypothesis testing is used to find out the sta...\n",
       "2  After calculating the p-value, the null hypoth...\n",
       "3                                                NaN\n",
       "4       2. Where are long-tailed distributions used?"
      ]
     },
     "execution_count": 4,
     "metadata": {},
     "output_type": "execute_result"
    }
   ],
   "source": [
    "data_droped = data_from_scrapping.drop(['web-scraper-order', 'web-scraper-start-url'], axis=1).copy()\n",
    "data_droped.head()"
   ]
  },
  {
   "cell_type": "code",
   "execution_count": 7,
   "metadata": {},
   "outputs": [
    {
     "name": "stdout",
     "output_type": "stream",
     "text": [
      "<class 'pandas.core.frame.DataFrame'>\n",
      "RangeIndex: 272 entries, 0 to 271\n",
      "Data columns (total 1 columns):\n",
      " #   Column                 Non-Null Count  Dtype \n",
      "---  ------                 --------------  ----- \n",
      " 0   questions_and_answers  272 non-null    string\n",
      "dtypes: string(1)\n",
      "memory usage: 2.2 KB\n"
     ]
    }
   ],
   "source": [
    "data_droped.dropna(how='all', inplace=True)\n",
    "data_droped.reset_index(drop=True, inplace=True)\n",
    "data_droped_string = data_droped.convert_dtypes(convert_string=True)\n",
    "data_droped_string.info()\n",
    "\n",
    "# converting the column to array:\n",
    "qa_array = data_droped_string['questions_and_answers'].to_numpy()"
   ]
  },
  {
   "cell_type": "code",
   "execution_count": 32,
   "metadata": {},
   "outputs": [],
   "source": [
    "rows_with_digits = []\n",
    "rows_without_digits = []\n",
    "answer_list = []\n",
    "for i in qa_array:\n",
    "    if not i[0].isdigit():\n",
    "        rows_without_digits.append(i)\n",
    "    else:\n",
    "        # Joining the answers stored in list into single string and clearing the list, for next answers\n",
    "        # matching the question\n",
    "        if rows_without_digits:\n",
    "            result_answer = ''.join(rows_without_digits)\n",
    "            answer_list.append(result_answer)\n",
    "            rows_without_digits = []\n",
    "        rows_with_digits.append(i)\n",
    "# Last if to make sure the last separated answer is also added to the list\n",
    "if rows_without_digits:\n",
    "    result_answer = ''.join(rows_without_digits)\n",
    "    answer_list.append(result_answer)\n",
    "        \n",
    "#print(f'Rows with digits: {rows_with_digits}\\n')\n",
    "#print(f'List of answers: {answer_list}')\n",
    "\n",
    "# Saving the results to the data frame with the questions in one column an the answers in another:\n",
    "# Checking if the answers and question list are  matching in lenght:\n",
    "try:\n",
    "    if len(rows_with_digits) == len(answer_list):\n",
    "        # creating the dict for pandas:\n",
    "        qa_dict_to_df = {'questions': rows_with_digits, 'answers': answer_list}\n",
    "except ValueError: \n",
    "    print(\"Lengths of provieded data frame differ in length, separation faild\")\n",
    "\n",
    "try:\n",
    "    # creating df from dict\n",
    "    df_separated_qa = pd.DataFrame(qa_dict_to_df)\n",
    "except (TypeError, KeyError): \n",
    "    print(\"Creating of dataframe with answer, failed, check the dict used to creating the df, or the lists with answers\")\n"
   ]
  },
  {
   "cell_type": "code",
   "execution_count": 34,
   "metadata": {},
   "outputs": [
    {
     "data": {
      "text/html": [
       "<div>\n",
       "<style scoped>\n",
       "    .dataframe tbody tr th:only-of-type {\n",
       "        vertical-align: middle;\n",
       "    }\n",
       "\n",
       "    .dataframe tbody tr th {\n",
       "        vertical-align: top;\n",
       "    }\n",
       "\n",
       "    .dataframe thead th {\n",
       "        text-align: right;\n",
       "    }\n",
       "</style>\n",
       "<table border=\"1\" class=\"dataframe\">\n",
       "  <thead>\n",
       "    <tr style=\"text-align: right;\">\n",
       "      <th></th>\n",
       "      <th>questions</th>\n",
       "      <th>answers</th>\n",
       "    </tr>\n",
       "  </thead>\n",
       "  <tbody>\n",
       "    <tr>\n",
       "      <th>68</th>\n",
       "      <td>69. What is the impact of outliers in statistics?</td>\n",
       "      <td>Outliers in statistics have a very negative im...</td>\n",
       "    </tr>\n",
       "    <tr>\n",
       "      <th>69</th>\n",
       "      <td>70. When creating a statistical model, how do ...</td>\n",
       "      <td>Overfitting can be detected by cross-validatio...</td>\n",
       "    </tr>\n",
       "    <tr>\n",
       "      <th>70</th>\n",
       "      <td>71. What is a survivorship bias?</td>\n",
       "      <td>The survivorship bias is the flaw of the sampl...</td>\n",
       "    </tr>\n",
       "    <tr>\n",
       "      <th>71</th>\n",
       "      <td>72. What is an undercoverage bias?</td>\n",
       "      <td>The undercoverage bias is a bias that occurs w...</td>\n",
       "    </tr>\n",
       "    <tr>\n",
       "      <th>72</th>\n",
       "      <td>74. What is the relationship between standard ...</td>\n",
       "      <td>Standard deviation is the square root of stand...</td>\n",
       "    </tr>\n",
       "  </tbody>\n",
       "</table>\n",
       "</div>"
      ],
      "text/plain": [
       "                                            questions  \\\n",
       "68  69. What is the impact of outliers in statistics?   \n",
       "69  70. When creating a statistical model, how do ...   \n",
       "70                   71. What is a survivorship bias?   \n",
       "71                 72. What is an undercoverage bias?   \n",
       "72  74. What is the relationship between standard ...   \n",
       "\n",
       "                                              answers  \n",
       "68  Outliers in statistics have a very negative im...  \n",
       "69  Overfitting can be detected by cross-validatio...  \n",
       "70  The survivorship bias is the flaw of the sampl...  \n",
       "71  The undercoverage bias is a bias that occurs w...  \n",
       "72  Standard deviation is the square root of stand...  "
      ]
     },
     "execution_count": 34,
     "metadata": {},
     "output_type": "execute_result"
    }
   ],
   "source": [
    "df_separated_qa.tail()"
   ]
  },
  {
   "cell_type": "code",
   "execution_count": 35,
   "metadata": {},
   "outputs": [],
   "source": [
    "# Making codes for questions and answers:\n",
    "\n",
    "def generate_code(row_index):\n",
    "    return 'A' + str(row_index+1)\n",
    "\n",
    "question_codes = []\n",
    "answer_codes = []\n",
    "for i, row in df_separated_qa.reset_index().iterrows():\n",
    "    question_codes.append(generate_code(i))\n",
    "    answer_codes.append(generate_code(i))\n",
    "    \n",
    "# Adding codes as columns to data frame:\n",
    "df_separated_qa['question_codes'] = question_codes\n",
    "df_separated_qa['answer_codes'] = answer_codes"
   ]
  },
  {
   "cell_type": "code",
   "execution_count": 57,
   "metadata": {},
   "outputs": [],
   "source": [
    "df_separated_qa.to_csv('qa_with_codes.csv')"
   ]
  },
  {
   "cell_type": "code",
   "execution_count": 58,
   "metadata": {},
   "outputs": [],
   "source": [
    "# Spliting questions to one dict with codes and answers to another:\n",
    "\n",
    "question_dict = df_separated_qa.set_index('question_codes')['questions'].to_dict()\n",
    "answer_dict = df_separated_qa.set_index('answer_codes')['answers'].to_dict()"
   ]
  },
  {
   "cell_type": "code",
   "execution_count": 49,
   "metadata": {},
   "outputs": [
    {
     "name": "stdout",
     "output_type": "stream",
     "text": [
      "Invalid input try again\n",
      "Invalid input try again\n",
      "You want to genrate 20 random questions.\n"
     ]
    }
   ],
   "source": [
    "# Making main loop for asking how many questions we want to answer, and to randomize the answers:\n",
    "def get_and_check_the_input(max_number_of_questions):\n",
    "    attempts = 0\n",
    "    while attempts <=3:\n",
    "        input_val = input(f'Please write number of question you want ot answer (max number: {max_number_of_questions}): ')\n",
    "        if str(input_val).isdigit():\n",
    "            if int(input_val) <= max_number_of_questions:\n",
    "                return int(input_val)\n",
    "            \n",
    "        attempts +=1\n",
    "        print(\"Invalid input try again\")\n",
    "    \n",
    "    if attempts == 4:\n",
    "        print(\"Program ge the wrong input 3 times, exiting the program\")\n",
    "        exit()\n",
    "\n",
    "\n",
    "try:\n",
    "    max_number_of_questions = len(question_dict)\n",
    "    number_of_question_to_generate = 0\n",
    "    \n",
    "    try:\n",
    "        number_of_question_to_generate = get_and_check_the_input(max_number_of_questions)\n",
    "    except:\n",
    "        print(\"Function for checking the input value not working properly.\")\n",
    "        \n",
    "    if number_of_question_to_generate is not None:\n",
    "        print(f\"You want to genrate {number_of_question_to_generate} random questions.\")\n",
    "except:\n",
    "    print('Something in the input went wrong.')"
   ]
  },
  {
   "cell_type": "code",
   "execution_count": 73,
   "metadata": {},
   "outputs": [
    {
     "data": {
      "text/plain": [
       "{'A60': ['A63', 'A60', 'A23', 'A36'],\n",
       " 'A40': ['A52', 'A37', 'A20', 'A40'],\n",
       " 'A73': ['A52', 'A11', 'A63', 'A73']}"
      ]
     },
     "execution_count": 73,
     "metadata": {},
     "output_type": "execute_result"
    }
   ],
   "source": [
    "\n",
    "input_val = 3\n",
    "answers_to_random_keys = {}\n",
    "copy_of_answers_dict = answer_dict.copy()\n",
    "random_question_keys = random.sample(list(question_dict.keys()), input_val)\n",
    "#Getting proper answers and deleting this keys from random pool:\n",
    "for key in random_question_keys:\n",
    "    if key in answer_dict:\n",
    "        answers_to_random_keys[key] = answer_dict[key]\n",
    "        copy_of_answers_dict.pop(key)\n",
    "\n",
    "answers_to_fullfil_options_keys = random.sample(list(copy_of_answers_dict.keys()), input_val*3)\n",
    "answers_to_fullfil_rest_of_question_options = {}\n",
    "#getting the rest of the answers to another dict:\n",
    "for key in answers_to_fullfil_options_keys:\n",
    "    if key in answer_dict:\n",
    "        answers_to_fullfil_rest_of_question_options[key] = answer_dict[key]\n",
    "\n",
    "# creating answers list of lists with dict keys:\n",
    "answers_keys_list = []\n",
    "# getting one correct answer key from proper answer dict:\n",
    "for key in answers_to_random_keys:\n",
    "    keys_from_fullfil_dict = random.sample(list(answers_to_fullfil_rest_of_question_options.keys()), 3)\n",
    "    answers_keys_list.append([key] + keys_from_fullfil_dict)\n",
    "    \n",
    "# shuffling the inner lists\n",
    "for inner_list in answers_keys_list:\n",
    "    random.shuffle(inner_list)\n",
    "#print(answers_keys_list)\n",
    "\n",
    "# creating the questions with 4 answears, as question key: list of answers:\n",
    "q_a_dict = {}\n",
    "for key in random_question_keys:\n",
    "    if key in question_dict:\n",
    "        for i in answers_keys_list:\n",
    "            if key in i:\n",
    "                q_a_dict[key] = i\n",
    "\n",
    "\n",
    "        "
   ]
  },
  {
   "cell_type": "code",
   "execution_count": 74,
   "metadata": {},
   "outputs": [
    {
     "name": "stdout",
     "output_type": "stream",
     "text": [
      "60. What are the types of biases that you can encounter while sampling?\n",
      "1. Hash tables are the data structures that are used to denote the representation of key-value pairs in a structured way. The hashing function is used by a hash table to compute an index that contains all of the details regarding the keys that are mapped to their associated values. \n",
      "\n",
      "2. There are three types of biases:Selection biasSurvivorship biasUnder coverage bias \n",
      "\n",
      "3. Mean is the average of a collection of values. We can calculate the mean by dividing the sum of all observations by the number of observations. \n",
      "\n",
      "4. True, a normal curve will have the area under unity and the symmetry around zero in any distribution. Here, all of the measures of central tendencies are equal to zero due to the symmetric nature of the standard normal curve. \n",
      "\n",
      "Correct!\n",
      "40. What types of variables are used for Pearson’s correlation coefficient?\n",
      "1. Following steps can be used to determine the length of sharks:Define the confidence level (usually around 95%)Use sample sharks to measureCalculate the mean and standard deviation of the lengthsDetermine t-statistics valuesDetermine the confidence interval in which the mean length lies \n",
      "\n",
      "2. First, correlation does not imply causation here. Correlation is only used to measure the relationship, which is linear between rest and productive work. If both vary rapidly, then it means that there is a high amount of correlation between them. \n",
      "\n",
      "3. The five-number summary is a measure of five entities that cover the entire range of data as shown below:Low extreme (Min)First quartile (Q1)MedianUpper quartile (Q3)High extreme (Max) \n",
      "\n",
      "4. Variables to be used for the Pearson’s correlation coefficient must be either in a ratio or in an interval.Note that there can exist a condition when one variable is a ratio, while the other is an interval score. \n",
      "\n",
      "Correct!\n",
      "74. What is the relationship between standard deviation and standard variance?\n",
      "1. Following steps can be used to determine the length of sharks:Define the confidence level (usually around 95%)Use sample sharks to measureCalculate the mean and standard deviation of the lengthsDetermine t-statistics valuesDetermine the confidence interval in which the mean length lies \n",
      "\n",
      "2. An inlier is a data point that lies at the same level as the rest of the dataset. Finding an inlier in the dataset is difficult when compared to an outlier as it requires external data to do so. Inliers, similar to outliers reduce model accuracy. Hence, even they are removed when they’re found in the data. This is done mainly to maintain model accuracy at all times. \n",
      "\n",
      "3. Hash tables are the data structures that are used to denote the representation of key-value pairs in a structured way. The hashing function is used by a hash table to compute an index that contains all of the details regarding the keys that are mapped to their associated values. \n",
      "\n",
      "4. Standard deviation is the square root of standard variance. Basically, standard deviation takes a look at how the data is spread out from the mean. On the other hand, standard variance is used to describe how much the data varies from the mean of the entire dataset. \n",
      "\n",
      "Correct!\n",
      "Youe got 3 out of 3 questions correct\n"
     ]
    }
   ],
   "source": [
    "# Creating the quiz:\n",
    "score = 0\n",
    "\n",
    "for question_key, answers_keys in q_a_dict.items():\n",
    "    print(f'{question_dict[question_key]}')\n",
    "    for i, answer in enumerate(answers_keys):\n",
    "        print(f'{i+1}. {answer_dict[answer]} \\n')\n",
    "    user_input = input(\"Enter the number of your answer: \")\n",
    "    if answers_keys[int(user_input)-1] == question_key:\n",
    "        print(\"Correct! \\n\")\n",
    "        score += 1\n",
    "    else: \n",
    "        print('Incorect!')\n",
    "        print(f'The correct answer is {answer_dict[question_key]} \\n')\n",
    "\n",
    "print(f'Youe got {score} out of {len(q_a_dict)} questions correct.')\n",
    "\n"
   ]
  }
 ],
 "metadata": {
  "kernelspec": {
   "display_name": "Python 3",
   "language": "python",
   "name": "python3"
  },
  "language_info": {
   "codemirror_mode": {
    "name": "ipython",
    "version": 3
   },
   "file_extension": ".py",
   "mimetype": "text/x-python",
   "name": "python",
   "nbconvert_exporter": "python",
   "pygments_lexer": "ipython3",
   "version": "3.11.0"
  },
  "orig_nbformat": 4,
  "vscode": {
   "interpreter": {
    "hash": "e5eabbe6ac4ad00f99a310a90db9129569c83dbf47b261a4fec3ce2229d39b85"
   }
  }
 },
 "nbformat": 4,
 "nbformat_minor": 2
}
